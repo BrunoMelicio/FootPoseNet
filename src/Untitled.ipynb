{
 "cells": [
  {
   "cell_type": "code",
   "execution_count": 1,
   "metadata": {},
   "outputs": [
    {
     "name": "stderr",
     "output_type": "stream",
     "text": [
      "Using TensorFlow backend.\n"
     ]
    }
   ],
   "source": [
    "from matplotlib import pyplot as plt\n",
    "%matplotlib notebook\n",
    "\n",
    "from keras.models import load_model\n",
    "from model import get_personlab\n",
    "from scipy.ndimage.filters import gaussian_filter\n",
    "import cv2\n",
    "import numpy as np\n",
    "from time import time\n",
    "from config import config\n",
    "import random\n",
    "from post_proc import *"
   ]
  },
  {
   "cell_type": "code",
   "execution_count": 2,
   "metadata": {},
   "outputs": [
    {
     "name": "stdout",
     "output_type": "stream",
     "text": [
      "Loading time: 14.1067540646\n"
     ]
    }
   ],
   "source": [
    "tic = time()\n",
    "#model = get_personlab(train=False, with_preprocess_lambda=True,\n",
    "#                      intermediate_supervision=True,\n",
    "#                      intermediate_layer='res4b12_relu',\n",
    "#                      build_base_func=get_resnet101_base,\n",
    "#                      output_stride=16)\n",
    "model = get_personlab(train=False, with_preprocess_lambda=True,\n",
    "                      output_stride=8)\n",
    "print 'Loading time: {}'.format(time()-tic)"
   ]
  },
  {
   "cell_type": "code",
   "execution_count": 3,
   "metadata": {},
   "outputs": [],
   "source": [
    "#model.load_weights('models/personlab_res101_400_r32_0510.h5')\n",
    "model.load_weights('personlab_model_101_best.h5')"
   ]
  },
  {
   "cell_type": "code",
   "execution_count": 4,
   "metadata": {},
   "outputs": [],
   "source": [
    "# Pad image appropriately (to match relationship to output_stride as in training)\n",
    "def pad_img(img, mult=16):\n",
    "    h, w, _ = img.shape\n",
    "    \n",
    "    h_pad = 0\n",
    "    w_pad = 0\n",
    "    if (h-1)%mult > 0:\n",
    "        h_pad = mult-((h-1)%mult)\n",
    "    if (w-1)%mult > 0:\n",
    "        w_pad = mult-((w-1)%mult)\n",
    "    return np.pad(img, ((0,h_pad), (0,w_pad), (0,0)), 'constant')\n",
    "\n",
    "#img = cv2.imread('testim.jpg')\n",
    "#img = cv2.resize(img, (0,0), fx=.9, fy=.9)\n",
    "#img = cv2.resize(img, (388,388))\n",
    "#img = pad_img(img)\n",
    "#print 'Image shape: {}'.format(img.shape)"
   ]
  },
  {
   "cell_type": "code",
   "execution_count": 5,
   "metadata": {},
   "outputs": [],
   "source": [
    "cap = cv2.VideoCapture('vid.mp4')\n",
    "\n",
    "while(cap.isOpened()):\n",
    "    print(\"here\")\n",
    "    ret, frame = cap.read()\n",
    "\n",
    "    img = cv2.resize(frame, (0,0), fx=.9, fy=.9)\n",
    "    img = pad_img(img)\n",
    "    \n",
    "    outputs = model.predict(img[np.newaxis,...])\n",
    "    outputs = [o[0] for o in outputs]\n",
    "\n",
    "    H = compute_heatmaps(kp_maps=outputs[0], short_offsets=outputs[1])\n",
    "    # Gaussian filtering helps when there are multiple local maxima for the same keypoint.\n",
    "    for i in range(17):\n",
    "        H[:,:,i] = gaussian_filter(H[:,:,i], sigma=2)\n",
    "        \n",
    "    pred_kp = get_keypoints(H)\n",
    "    print(len(pred_kp))\n",
    "    \n",
    "    cv2.imshow('frame',img)\n",
    "    if cv2.waitKey(1) & 0xFF == ord('q'):\n",
    "        break\n",
    "\n",
    "cap.release()\n",
    "cv2.destroyAllWindows()"
   ]
  },
  {
   "cell_type": "code",
   "execution_count": null,
   "metadata": {},
   "outputs": [],
   "source": []
  }
 ],
 "metadata": {
  "kernelspec": {
   "display_name": "Python 2",
   "language": "python",
   "name": "python2"
  },
  "language_info": {
   "codemirror_mode": {
    "name": "ipython",
    "version": 2
   },
   "file_extension": ".py",
   "mimetype": "text/x-python",
   "name": "python",
   "nbconvert_exporter": "python",
   "pygments_lexer": "ipython2",
   "version": "2.7.18"
  }
 },
 "nbformat": 4,
 "nbformat_minor": 2
}
